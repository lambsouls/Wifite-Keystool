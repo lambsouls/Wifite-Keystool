{
 "cells": [
  {
   "cell_type": "code",
   "execution_count": 35,
   "metadata": {},
   "outputs": [],
   "source": [
    "#全局引用\n",
    "import random\n",
    "#全局变量\n",
    "x=0"
   ]
  },
  {
   "cell_type": "code",
   "execution_count": 43,
   "metadata": {},
   "outputs": [],
   "source": [
    "#函数区域 ↓"
   ]
  },
  {
   "cell_type": "code",
   "execution_count": 24,
   "metadata": {},
   "outputs": [],
   "source": [
    "def rounum(a,b):\n",
    "    '''生成a到b之间的随机数'''\n",
    "    num=random.randint(a,b)\n",
    "    return num\n",
    "\n",
    "\n",
    "def rouxiao():\n",
    "    '''随机小写字母'''\n",
    "    num=chr(rounum(97,122))\n",
    "    return num\n",
    "\n",
    "\n",
    "\n",
    "def rouda():\n",
    "    '''随机大写字母'''\n",
    "    num=chr(rounum(65,91))\n",
    "    return num    "
   ]
  },
  {
   "cell_type": "code",
   "execution_count": null,
   "metadata": {},
   "outputs": [],
   "source": [
    "#主体"
   ]
  },
  {
   "cell_type": "code",
   "execution_count": null,
   "metadata": {},
   "outputs": [],
   "source": [
    "#输出标题\n",
    "a1=13\n",
    "while a1>0:\n",
    "    print(end='—')\n",
    "    a1-=1\n",
    "print(\"\")\n",
    "print(\"* Wifite Keystool v1.01 *\")\n",
    "a2=13\n",
    "while a2>0:\n",
    "    print(end='—')\n",
    "    a2-=1\n",
    "print(\"\")"
   ]
  },
  {
   "cell_type": "code",
   "execution_count": 2,
   "metadata": {},
   "outputs": [
    {
     "name": "stdout",
     "output_type": "stream",
     "text": [
      "Minimum number of digits:\n"
     ]
    },
    {
     "name": "stdin",
     "output_type": "stream",
     "text": [
      " 8\n"
     ]
    },
    {
     "name": "stdout",
     "output_type": "stream",
     "text": [
      "\n",
      "Maximum number of digits:\n"
     ]
    },
    {
     "name": "stdin",
     "output_type": "stream",
     "text": [
      " 8\n"
     ]
    },
    {
     "name": "stdout",
     "output_type": "stream",
     "text": [
      "\n",
      "Does the keys contain numbers?\n",
      "[0] NO\n",
      "[1] YES\n"
     ]
    },
    {
     "name": "stdin",
     "output_type": "stream",
     "text": [
      " 1\n"
     ]
    },
    {
     "name": "stdout",
     "output_type": "stream",
     "text": [
      "\n",
      "Does the keys contain lowercase letters?\n",
      "[0] NO\n",
      "[1] YES\n"
     ]
    },
    {
     "name": "stdin",
     "output_type": "stream",
     "text": [
      " 0\n"
     ]
    },
    {
     "name": "stdout",
     "output_type": "stream",
     "text": [
      "\n",
      "Does the keys contain lowercase capital letters?\n",
      "[0] NO\n",
      "[1] YES\n"
     ]
    },
    {
     "name": "stdin",
     "output_type": "stream",
     "text": [
      " 0\n"
     ]
    },
    {
     "name": "stdout",
     "output_type": "stream",
     "text": [
      "\n"
     ]
    },
    {
     "ename": "NameError",
     "evalue": "name 'rounum' is not defined",
     "output_type": "error",
     "traceback": [
      "\u001b[1;31m---------------------------------------------------------------------------\u001b[0m",
      "\u001b[1;31mNameError\u001b[0m                                 Traceback (most recent call last)",
      "\u001b[1;32m<ipython-input-2-7559fd871453>\u001b[0m in \u001b[0;36m<module>\u001b[1;34m\u001b[0m\n\u001b[0;32m    105\u001b[0m \u001b[1;33m\u001b[0m\u001b[0m\n\u001b[0;32m    106\u001b[0m \u001b[1;31m#生成随机位数\u001b[0m\u001b[1;33m\u001b[0m\u001b[1;33m\u001b[0m\u001b[1;33m\u001b[0m\u001b[0m\n\u001b[1;32m--> 107\u001b[1;33m \u001b[0mweishu\u001b[0m\u001b[1;33m=\u001b[0m\u001b[0mrounum\u001b[0m\u001b[1;33m(\u001b[0m\u001b[0mminimun\u001b[0m\u001b[1;33m,\u001b[0m\u001b[0mmaximun\u001b[0m\u001b[1;33m)\u001b[0m\u001b[1;33m\u001b[0m\u001b[1;33m\u001b[0m\u001b[0m\n\u001b[0m\u001b[0;32m    108\u001b[0m \u001b[1;33m\u001b[0m\u001b[0m\n\u001b[0;32m    109\u001b[0m \u001b[1;31m#创建检查字典\u001b[0m\u001b[1;33m\u001b[0m\u001b[1;33m\u001b[0m\u001b[1;33m\u001b[0m\u001b[0m\n",
      "\u001b[1;31mNameError\u001b[0m: name 'rounum' is not defined"
     ]
    }
   ],
   "source": [
    "#输入区域\n",
    "#输入最小位数\n",
    "print(\"Minimum number of digits:\")\n",
    "minimun=input()\n",
    "while minimun.isdigit()==0: #判断是否输入的是数字\n",
    "    print(\"[Warning] Illegal input,please re-enter:\")\n",
    "    minimun=input()\n",
    "while int(minimun)<6:#判断是否大于6位\n",
    "    print(\"[Warning] Illegal input,please re-enter:\")\n",
    "    minimun=input()\n",
    "while int(minimun)>20:#判断是否小于20位\n",
    "    print(\"[Warning] Illegal input,please re-enter:\")\n",
    "    minimun=input()\n",
    "print(\"\")\n",
    "\n",
    "#建立列表存储已经生成的密码方便查询\n",
    "keys=['12345678','12345679','1234567890']\n",
    "\n",
    "#输入最大位数\n",
    "print(\"Maximum number of digits:\")\n",
    "maximun=input()\n",
    "while maximun.isdigit()==0: #判断是否输入的是数字\n",
    "    print(\"[Warning] Illegal input,please re-enter:\")\n",
    "    maximun=input()\n",
    "while int(minimun)>int(maximun): #判断是否大于最小位数\n",
    "    print(\"[Warning] Illegal input,please re-enter:\")\n",
    "    maximun=input()\n",
    "while int(maximun)>20: #判断是否小于20位\n",
    "    print(\"[Warning] Illegal input,please re-enter:\")\n",
    "    maximun=input()\n",
    "print(\"\")\n",
    "\n",
    "#是否包含数字\n",
    "print(\"Does the keys contain numbers?\")\n",
    "print(\"[0] NO\")\n",
    "print(\"[1] YES\")\n",
    "havenumbers=input()\n",
    "while havenumbers.isdigit()==0: #判断是否输入的是数字\n",
    "    print(\"[Warning] Illegal input,please re-enter:\")\n",
    "    print(\"[0] NO\")\n",
    "    print(\"[1] YES\")\n",
    "    havenumbers=input()\n",
    "while int(havenumbers)>1: #判断是否小于等于1\n",
    "    print(\"[Warning] Illegal input,please re-enter:\")\n",
    "    print(\"[0] NO\")\n",
    "    print(\"[1] YES\")\n",
    "    havenumbers=input()\n",
    "while int(havenumbers)<0: #判断是否大于等于0\n",
    "    print(\"[Warning] Illegal input,please re-enter:\")\n",
    "    print(\"[0] NO\")\n",
    "    print(\"[1] YES\")\n",
    "    havenumbers=input()\n",
    "print(\"\")\n",
    "\n",
    "#是否包含小写字母\n",
    "print(\"Does the keys contain lowercase letters?\")\n",
    "print(\"[0] NO\")\n",
    "print(\"[1] YES\")\n",
    "havelowercaseletters=input()\n",
    "while havelowercaseletters.isdigit()==0: #判断是否输入的是数字\n",
    "    print(\"[Warning] Illegal input,please re-enter:\")\n",
    "    print(\"[0] NO\")\n",
    "    print(\"[1] YES\")\n",
    "    havelowercaseletters=input()\n",
    "while int(havelowercaseletters)>1: #判断是否小于等于1\n",
    "    print(\"[Warning] Illegal input,please re-enter:\")\n",
    "    print(\"[0] NO\")\n",
    "    print(\"[1] YES\")\n",
    "    havelowercaseletters=input()\n",
    "while int(havelowercaseletters)<0: #判断是否大于等于0\n",
    "    print(\"[Warning] Illegal input,please re-enter:\")\n",
    "    print(\"[0] NO\")\n",
    "    print(\"[1] YES\")\n",
    "    havelowercaseletters=input()\n",
    "print(\"\")\n",
    "\n",
    "#是否包含大写字母\n",
    "print(\"Does the keys contain lowercase capital letters?\")\n",
    "print(\"[0] NO\")\n",
    "print(\"[1] YES\")\n",
    "havecapitalletters=input()\n",
    "while havecapitalletters.isdigit()==0: #判断是否输入的是数字\n",
    "    print(\"[Warning] Illegal input,please re-enter:\")\n",
    "    print(\"[0] NO\")\n",
    "    print(\"[1] YES\")\n",
    "    havecapitalletters=input()\n",
    "while int(havecapitalletters)>1: #判断是否小于等于1\n",
    "    print(\"[Warning] Illegal input,please re-enter:\")\n",
    "    print(\"[0] NO\")\n",
    "    print(\"[1] YES\")\n",
    "    havecapitalletters=input()\n",
    "while int(havecapitalletters)<0: #判断是否大于等于0\n",
    "    print(\"[Warning] Illegal input,please re-enter:\")\n",
    "    print(\"[0] NO\")\n",
    "    print(\"[1] YES\")\n",
    "    havecapitalletters=input()\n",
    "print(\"\")\n",
    "\n",
    "#把参数变成整型\n",
    "minimun=int(minimun)\n",
    "maximun=int(maximun)\n",
    "havenumbers=int(havenumbers)\n",
    "havelowercaseletters=int(havelowercaseletters)\n",
    "havecapitalletters=int(havecapitalletters)\n",
    "\n",
    "#生成随机位数\n",
    "weishu=rounum(minimun,maximun)\n",
    "\n",
    "#创建检查字典\n",
    "\n",
    "#选择数据类型\n",
    "while x==0:\n",
    "    n=0\n",
    "    while n==0:\n",
    "        n1=rounum(1,3)\n",
    "        if n==0 and n1==1 and havenumbers==1:\n",
    "            n=1\n",
    "        if n==0 and n1==2 and havelowercaseletters==1:\n",
    "            n=1\n",
    "        if n==0 and n1==3 and havecapitalletters==1:\n",
    "            n=1\n",
    "\n",
    "    if n1==1:\n",
    "        nx=str(rounum(0,9))\n",
    "    if n1==2:\n",
    "        nx=str(rouxiao())\n",
    "    if n1==3:\n",
    "        nx=str(rouda()) \n",
    "    \n",
    "    weishu=rounum(minimun,maximun)\n",
    "    while weishu>1:\n",
    "        n=0\n",
    "        while n==0:\n",
    "            n1=rounum(1,3)\n",
    "            if n==0 and n1==1 and havenumbers==1:\n",
    "                n=1\n",
    "            if n==0 and n1==2 and havelowercaseletters==1:\n",
    "                n=1\n",
    "            if n==0 and n1==3 and havecapitalletters==1:\n",
    "                n=1\n",
    "        weishu-=1\n",
    "        if n1==1:\n",
    "            nx+=str(rounum(0,9))\n",
    "        if n1==2:\n",
    "            nx+=str(rouxiao())\n",
    "        if n1==3:\n",
    "            nx+=str(rouda()) \n",
    "    if nx not in keys:\n",
    "        keys.append(nx)\n",
    "        print(nx)\n",
    "        f = open('wordlist-probable.txt', 'a')\n",
    "        f.write(nx)\n",
    "        f.write('\\n')"
   ]
  },
  {
   "cell_type": "code",
   "execution_count": null,
   "metadata": {},
   "outputs": [],
   "source": []
  }
 ],
 "metadata": {
  "kernelspec": {
   "display_name": "Python 3",
   "language": "python",
   "name": "python3"
  },
  "language_info": {
   "codemirror_mode": {
    "name": "ipython",
    "version": 3
   },
   "file_extension": ".py",
   "mimetype": "text/x-python",
   "name": "python",
   "nbconvert_exporter": "python",
   "pygments_lexer": "ipython3",
   "version": "3.8.3"
  }
 },
 "nbformat": 4,
 "nbformat_minor": 4
}
